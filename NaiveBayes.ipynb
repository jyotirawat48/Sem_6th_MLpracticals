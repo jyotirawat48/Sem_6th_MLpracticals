{
  "cells": [
    {
      "cell_type": "code",
      "execution_count": null,
      "id": "719dd64d",
      "metadata": {
        "id": "719dd64d",
        "outputId": "151f6576-fd4f-4f07-ebd2-4bba8185bde9"
      },
      "outputs": [
        {
          "name": "stdout",
          "output_type": "stream",
          "text": [
            "     outlook  temp humidity  windy play\n",
            "0      sunny   hot     high  False   no\n",
            "1      sunny   hot     high   True   no\n",
            "2   overcast   hot     high  False  yes\n",
            "3      rainy  mild     high  False  yes\n",
            "4      rainy  cool   normal  False  yes\n",
            "5      rainy  cool   normal   True   no\n",
            "6   overcast  cool   normal   True  yes\n",
            "7      sunny  mild     high  False   no\n",
            "8      sunny  cool   normal  False  yes\n",
            "9      rainy  mild   normal  False  yes\n",
            "10     sunny  mild   normal   True  yes\n",
            "11  overcast  mild     high   True  yes\n",
            "12  overcast   hot   normal  False  yes\n",
            "13     rainy  mild     high   True   no\n"
          ]
        }
      ],
      "source": [
        "import pandas as pd\n",
        "\n",
        "data=pd.read_csv('tennis.csv')\n",
        "print(data)\n"
      ]
    },
    {
      "cell_type": "code",
      "execution_count": null,
      "id": "78d5b5dc",
      "metadata": {
        "id": "78d5b5dc",
        "outputId": "2d8efe5e-be41-472e-ac6d-17b64a355edd"
      },
      "outputs": [
        {
          "name": "stdout",
          "output_type": "stream",
          "text": [
            "Total cases: 14\n",
            "Play=yes: 9\n",
            "Play=no: 5\n"
          ]
        }
      ],
      "source": [
        "\n",
        "records=data.shape[0]\n",
        "yes=data[data['play']=='yes'].shape[0]\n",
        "no=data[data['play']=='no'].shape[0]\n",
        "print(\"Total cases:\",records)\n",
        "print(\"Play=yes:\",yes)\n",
        "print(\"Play=no:\",no)\n"
      ]
    },
    {
      "cell_type": "code",
      "execution_count": null,
      "id": "facd8dbb",
      "metadata": {
        "id": "facd8dbb",
        "outputId": "9a74a3ab-582d-4701-ff62-05d7ab31e920"
      },
      "outputs": [
        {
          "name": "stdout",
          "output_type": "stream",
          "text": [
            "Outlook=sunny:\n",
            "    outlook  temp humidity  windy play\n",
            "0    sunny   hot     high  False   no\n",
            "1    sunny   hot     high   True   no\n",
            "7    sunny  mild     high  False   no\n",
            "8    sunny  cool   normal  False  yes\n",
            "10   sunny  mild   normal   True  yes\n",
            "Probability of outlook=sunny given play=yes: 0.222\n",
            "Probability of outlook=sunny given play=no: 0.600\n",
            "Temperature=cool:\n",
            "     outlook  temp humidity  windy play\n",
            "4     rainy  cool   normal  False  yes\n",
            "5     rainy  cool   normal   True   no\n",
            "6  overcast  cool   normal   True  yes\n",
            "8     sunny  cool   normal  False  yes\n",
            "Probability of temp=cool given play=yes: 0.333\n",
            "Probability of temp=cool given play=no: 0.200\n"
          ]
        }
      ],
      "source": [
        "\n",
        "o=data[data['outlook']=='sunny']\n",
        "Poyes=o[o['play']=='yes']\n",
        "Pono=o[o['play']=='no']\n",
        "print(\"Outlook=sunny:\\n\",o)\n",
        "oyes=Poyes.shape[0]\n",
        "ono=Pono.shape[0]\n",
        "Poy=oyes/yes\n",
        "Pon=ono/no\n",
        "print(\"Probability of outlook=sunny given play=yes:\",'%.3f'%Poy)\n",
        "print(\"Probability of outlook=sunny given play=no:\",'%.3f'%Pon)\n",
        "t=data[data['temp']=='cool']\n",
        "Ptyes=t[t['play']=='yes']\n",
        "Ptno=t[t['play']=='no']\n",
        "print(\"Temperature=cool:\\n\",t)\n",
        "tyes=Ptyes.shape[0]\n",
        "tno=Ptno.shape[0]\n",
        "Pty=tyes/yes\n",
        "Ptn=tno/no\n",
        "print(\"Probability of temp=cool given play=yes:\",'%.3f'%Pty)\n",
        "print(\"Probability of temp=cool given play=no:\",'%.3f'%Ptn)\n",
        "\n"
      ]
    },
    {
      "cell_type": "code",
      "execution_count": null,
      "id": "6017e4b4",
      "metadata": {
        "id": "6017e4b4",
        "outputId": "6848a0aa-31d8-4ad9-80e8-6373cb228d6d"
      },
      "outputs": [
        {
          "name": "stdout",
          "output_type": "stream",
          "text": [
            "Humidity=high:\n",
            "      outlook  temp humidity  windy play\n",
            "0      sunny   hot     high  False   no\n",
            "1      sunny   hot     high   True   no\n",
            "2   overcast   hot     high  False  yes\n",
            "3      rainy  mild     high  False  yes\n",
            "7      sunny  mild     high  False   no\n",
            "11  overcast  mild     high   True  yes\n",
            "13     rainy  mild     high   True   no\n",
            "Probability of humidity=high given play=yes: 0.333\n",
            "Probability of humidity=high given play=no: 0.800\n"
          ]
        }
      ],
      "source": [
        "h=data[data['humidity']=='high']\n",
        "Phyes=h[h['play']=='yes']\n",
        "Phno=h[h['play']=='no']\n",
        "print(\"Humidity=high:\\n\",h)\n",
        "hyes=Phyes.shape[0]\n",
        "hno=Phno.shape[0]\n",
        "Phy=hyes/yes\n",
        "Phn=hno/no\n",
        "print(\"Probability of humidity=high given play=yes:\",'%.3f'%Phy)\n",
        "print(\"Probability of humidity=high given play=no:\",'%.3f'%Phn)\n"
      ]
    },
    {
      "cell_type": "code",
      "execution_count": null,
      "id": "5205002a",
      "metadata": {
        "id": "5205002a",
        "outputId": "40accd63-e841-4735-8fdd-5962331153b9"
      },
      "outputs": [
        {
          "name": "stdout",
          "output_type": "stream",
          "text": [
            "Windy=true:\n",
            "      outlook  temp humidity  windy play\n",
            "1      sunny   hot     high   True   no\n",
            "5      rainy  cool   normal   True   no\n",
            "6   overcast  cool   normal   True  yes\n",
            "10     sunny  mild   normal   True  yes\n",
            "11  overcast  mild     high   True  yes\n",
            "13     rainy  mild     high   True   no\n",
            "Probability of windy=true given play=yes: 0.333\n",
            "Probability of windy=true given play=no: 0.600\n"
          ]
        }
      ],
      "source": [
        "\n",
        "w=data[data['windy']==True]\n",
        "Pwyes=w[w['play']=='yes']\n",
        "Pwno=w[w['play']=='no']\n",
        "print(\"Windy=true:\\n\",w)\n",
        "wyes=Pwyes.shape[0]\n",
        "wno=Pwno.shape[0]\n",
        "Pwy=wyes/yes\n",
        "Pwn=wno/no\n",
        "print(\"Probability of windy=true given play=yes:\",'%.3f'%Pwy)\n",
        "print(\"Probability of windy=true given play=no:\",'%.3f'%Pwn)\n"
      ]
    },
    {
      "cell_type": "code",
      "execution_count": null,
      "id": "6d418c3e",
      "metadata": {
        "id": "6d418c3e",
        "outputId": "c3f2e0d7-170e-4ff8-94c8-f837fb7e9877"
      },
      "outputs": [
        {
          "name": "stdout",
          "output_type": "stream",
          "text": [
            "Using Naive Bayes Classifier with instance<Outlook=sunny,Temp=cool,Humidity=high,Windy=True>:\n",
            "P(play=yes)= 0.005\n",
            "P(play=no)= 0.021\n",
            "So, the probability of playing tennis for the given instance will be: Pnb= 0.021\n"
          ]
        }
      ],
      "source": [
        "\n",
        "Pyes=(yes/records)*Poy*Pty*Phy*Pwy\n",
        "Pno=(no/records)*Pon*Ptn*Phn*Pwn\n",
        "print(\"Using Naive Bayes Classifier with instance<Outlook=sunny,Temp=cool,Humidity=high,Windy=True>:\")\n",
        "print(\"P(play=yes)=\",'%.3f'%Pyes)\n",
        "print(\"P(play=no)=\",'%.3f'%Pno)\n",
        "\n",
        "if Pyes>Pno:\n",
        "    print(\"So, the probability of playing tennis for the given instance will be: Pnb=\",'%.3f'%Pyes)\n",
        "else:\n",
        "    print(\"So, the probability of playing tennis for the given instance will be: Pnb=\",'%.3f'%Pno)\n",
        "    "
      ]
    },
    {
      "cell_type": "code",
      "execution_count": null,
      "id": "5eb3e5a5",
      "metadata": {
        "id": "5eb3e5a5"
      },
      "outputs": [],
      "source": [
        ""
      ]
    }
  ],
  "metadata": {
    "kernelspec": {
      "display_name": "Python 3 (ipykernel)",
      "language": "python",
      "name": "python3"
    },
    "language_info": {
      "codemirror_mode": {
        "name": "ipython",
        "version": 3
      },
      "file_extension": ".py",
      "mimetype": "text/x-python",
      "name": "python",
      "nbconvert_exporter": "python",
      "pygments_lexer": "ipython3",
      "version": "3.9.7"
    },
    "colab": {
      "name": "NaiveBayes.ipynb",
      "provenance": []
    }
  },
  "nbformat": 4,
  "nbformat_minor": 5
}